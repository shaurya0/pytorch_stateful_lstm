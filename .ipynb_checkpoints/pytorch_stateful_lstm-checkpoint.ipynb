{
 "cells": [
  {
   "cell_type": "code",
   "execution_count": 1,
   "metadata": {},
   "outputs": [],
   "source": [
    "import numpy as np\n",
    "import pandas as pd \n",
    "from glob import glob\n",
    "from os import path\n",
    "import matplotlib.pyplot as plt\n",
    "from torch.utils.data.dataset import Dataset\n",
    "import torch\n",
    "import torch.nn as nn\n",
    "import torch.nn.functional as F\n",
    "from sklearn import preprocessing\n",
    "from torch.autograd import Variable\n",
    "import torch.utils.data as utils"
   ]
  },
  {
   "cell_type": "code",
   "execution_count": 66,
   "metadata": {},
   "outputs": [],
   "source": [
    "N = 1200\n",
    "batch_size = 32\n",
    "seq_len = 20\n",
    "num_features = 1\n",
    "window_size = 10"
   ]
  },
  {
   "cell_type": "code",
   "execution_count": 67,
   "metadata": {},
   "outputs": [
    {
     "data": {
      "text/plain": [
       "0"
      ]
     },
     "execution_count": 67,
     "metadata": {},
     "output_type": "execute_result"
    }
   ],
   "source": [
    "int(0.8*1200)%32"
   ]
  },
  {
   "cell_type": "code",
   "execution_count": 68,
   "metadata": {},
   "outputs": [],
   "source": [
    "def generate_data(N, seq_len):\n",
    "    N_train = int(N*0.8)\n",
    "    X = np.zeros((N, seq_len), dtype=np.float32)\n",
    "    y = np.zeros((N,1), dtype=np.float32)\n",
    "    \n",
    "    indices = np.random.randint(0, N, size=N)\n",
    "    \n",
    "    X[indices, 0] = 1.0\n",
    "    y[indices, 0] = 1.0\n",
    "    \n",
    "    X_train, y_train = X[:N_train], y[:N_train]\n",
    "    X_test, y_test = X[N_train:], y[N_train:]\n",
    "    \n",
    "    return X_train, y_train, X_test, y_test\n",
    "    "
   ]
  },
  {
   "cell_type": "code",
   "execution_count": 69,
   "metadata": {},
   "outputs": [],
   "source": [
    "def generate_synthetic_test_data(N, seq_len):\n",
    "    N_train = int(N*0.8)\n",
    "    X = np.reshape(np.arange(0, N*seq_len, dtype=np.float32),(N, seq_len))\n",
    "    y = np.reshape(np.arange(0,N, dtype=np.float32), (N,1))\n",
    "    \n",
    "    \n",
    "    X_train, y_train = X[:N_train], y[:N_train]\n",
    "    X_test, y_test = X[N_train:], y[N_train:]\n",
    "    \n",
    "    return X_train, y_train, X_test, y_test"
   ]
  },
  {
   "cell_type": "code",
   "execution_count": 70,
   "metadata": {},
   "outputs": [],
   "source": [
    "X_train, y_train, X_test, y_test = generate_synthetic_test_data(N, seq_len)"
   ]
  },
  {
   "cell_type": "code",
   "execution_count": 170,
   "metadata": {},
   "outputs": [],
   "source": [
    "class StatefulSequenceDataset(object):\n",
    "    def __init__(self, X, y, batch_size, seq_len, window_size):\n",
    "        self.X = X\n",
    "        self.y = y\n",
    "        self.batch_size = batch_size\n",
    "        self.seq_len = seq_len\n",
    "        self.window_size = window_size\n",
    "        N = X.shape[0]\n",
    "        \n",
    "        assert(N%batch_size == 0)\n",
    "        assert(seq_len > window_size)\n",
    "        self.N = N\n",
    "        \n",
    "        # index into X,y matrices, ranges from 0:(N - batch_size)\n",
    "        self.idx = 0\n",
    "        \n",
    "        # index into subsequence, ranges from 0:window_size\n",
    "        self.subseq_idx = 0\n",
    "        \n",
    "    \n",
    "    def get_batch(self):\n",
    "        if self.subseq_idx > self.num_subsequences_per_batch():\n",
    "            self.idx = (self.idx + self.batch_size) % self.N\n",
    "            self.subseq_idx = 0\n",
    "        \n",
    "        ii = self.idx\n",
    "        bs = self.batch_size\n",
    "        \n",
    "        jj = self.subseq_idx\n",
    "        batch_X = torch.from_numpy(self.X[ii:ii+bs, jj:jj+self.window_size])\n",
    "        batch_y = torch.from_numpy(self.y[ii:ii+bs])\n",
    "        \n",
    "        self.subseq_idx += 1\n",
    "        return batch_X, batch_y\n",
    "    \n",
    "    def num_batches_per_epoch(self):\n",
    "        return self.N//self.batch_size\n",
    "    \n",
    "    def num_subsequences_per_batch(self):\n",
    "        return self.seq_len - self.window_size\n",
    "    \n",
    "    "
   ]
  },
  {
   "cell_type": "code",
   "execution_count": 188,
   "metadata": {},
   "outputs": [],
   "source": [
    "ds = StatefulSequenceDataset(X_train, y_train, batch_size, seq_len, window_size)\n"
   ]
  },
  {
   "cell_type": "code",
   "execution_count": 189,
   "metadata": {},
   "outputs": [
    {
     "name": "stdout",
     "output_type": "stream",
     "text": [
      "0\n",
      "32\n",
      "64\n",
      "96\n",
      "128\n",
      "160\n",
      "192\n",
      "224\n",
      "256\n",
      "288\n",
      "320\n",
      "352\n",
      "384\n",
      "416\n",
      "448\n",
      "480\n",
      "512\n",
      "544\n",
      "576\n",
      "608\n",
      "640\n",
      "672\n",
      "704\n",
      "736\n",
      "768\n",
      "800\n",
      "832\n",
      "864\n",
      "896\n"
     ]
    }
   ],
   "source": [
    "\n",
    "for x in range(ds.num_batches_per_epoch()):\n",
    "        for j in range(ds.num_subsequences_per_batch()):\n",
    "            xx, yy = ds.get_batch()\n",
    "\n"
   ]
  }
 ],
 "metadata": {
  "kernelspec": {
   "display_name": "Python 3",
   "language": "python",
   "name": "python3"
  },
  "language_info": {
   "codemirror_mode": {
    "name": "ipython",
    "version": 3
   },
   "file_extension": ".py",
   "mimetype": "text/x-python",
   "name": "python",
   "nbconvert_exporter": "python",
   "pygments_lexer": "ipython3",
   "version": "3.6.5"
  }
 },
 "nbformat": 4,
 "nbformat_minor": 2
}
