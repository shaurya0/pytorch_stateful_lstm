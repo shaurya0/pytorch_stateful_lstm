{
 "cells": [
  {
   "cell_type": "code",
   "execution_count": 2,
   "metadata": {},
   "outputs": [],
   "source": [
    "import numpy as np\n",
    "import pandas as pd \n",
    "from glob import glob\n",
    "from os import path\n",
    "import matplotlib.pyplot as plt\n",
    "from torch.utils.data.dataset import Dataset\n",
    "import torch\n",
    "import torch.nn as nn\n",
    "import torch.nn.functional as F\n",
    "from sklearn import preprocessing\n",
    "from torch.autograd import Variable\n",
    "import torch.utils.data as utils\n",
    "from time import sleep"
   ]
  },
  {
   "cell_type": "code",
   "execution_count": 31,
   "metadata": {},
   "outputs": [],
   "source": [
    "N = 1200\n",
    "batch_size = 32\n",
    "seq_len = 20\n",
    "num_features = 1\n",
    "window_size = 10"
   ]
  },
  {
   "cell_type": "code",
   "execution_count": 32,
   "metadata": {},
   "outputs": [],
   "source": [
    "def generate_data(N, seq_len):\n",
    "    N_train = int(N*0.8)\n",
    "    X = np.zeros((N, seq_len), dtype=np.float32)\n",
    "    y = np.zeros((N,1), dtype=np.float32)\n",
    "    \n",
    "    indices = np.random.randint(0, N, size=N//2)\n",
    "    \n",
    "    X[indices, 0] = 1.0\n",
    "    y[indices, 0] = 1.0\n",
    "    \n",
    "    X_train, y_train = X[:N_train], y[:N_train]\n",
    "    X_test, y_test = X[N_train:], y[N_train:]\n",
    "    \n",
    "    return X_train, y_train, X_test, y_test\n",
    "    "
   ]
  },
  {
   "cell_type": "code",
   "execution_count": 33,
   "metadata": {},
   "outputs": [],
   "source": [
    "def generate_synthetic_test_data(N, seq_len):\n",
    "    N_train = int(N*0.8)\n",
    "    X = np.reshape(np.arange(0, N*seq_len, dtype=np.float32),(N, seq_len))\n",
    "    y = np.reshape(np.arange(0,N, dtype=np.float32), (N,1))\n",
    "    \n",
    "    \n",
    "    X_train, y_train = X[:N_train], y[:N_train]\n",
    "    X_test, y_test = X[N_train:], y[N_train:]\n",
    "    \n",
    "    return X_train, y_train, X_test, y_test"
   ]
  },
  {
   "cell_type": "code",
   "execution_count": 34,
   "metadata": {},
   "outputs": [],
   "source": [
    "X_train, y_train, X_test, y_test = generate_data(N, seq_len)"
   ]
  },
  {
   "cell_type": "code",
   "execution_count": 35,
   "metadata": {},
   "outputs": [],
   "source": [
    "class StatefulSequenceDataset(object):\n",
    "    def __init__(self, X, y, batch_size, seq_len, window_size):\n",
    "        self.X = X\n",
    "        self.y = y\n",
    "        self.batch_size = batch_size\n",
    "        self.seq_len = seq_len\n",
    "        self.window_size = window_size\n",
    "        N = X.shape[0]\n",
    "        \n",
    "        assert(N%batch_size == 0)\n",
    "        assert(seq_len >= window_size)\n",
    "        self.N = N\n",
    "        \n",
    "        # index into X,y matrices, ranges from 0:(N - batch_size)\n",
    "        self.idx = 0\n",
    "        \n",
    "        # index into subsequence, ranges from 0:window_size\n",
    "        self.subseq_idx = 0\n",
    "        self.subseq_len = self.seq_len - self.window_size\n",
    "        \n",
    "    \n",
    "    def get_batch(self):\n",
    "        if self.subseq_idx == self.num_batches_per_sequence():\n",
    "            self.idx = (self.idx + self.batch_size) % self.N\n",
    "            self.subseq_idx = 0\n",
    "        \n",
    "        ii = self.idx\n",
    "        bs = self.batch_size\n",
    "        \n",
    "        jj = self.subseq_idx\n",
    "        xx = self.X[ii:ii+bs, jj:jj+self.window_size]        \n",
    "        batch_X = torch.from_numpy(xx)\n",
    "        batch_y = torch.from_numpy(self.y[ii:ii+bs])\n",
    "        \n",
    "        self.subseq_idx += 1\n",
    "        return batch_X, batch_y\n",
    "    \n",
    "    def num_batches_per_epoch(self):\n",
    "        return self.N//self.batch_size\n",
    "    \n",
    "    def num_batches_per_sequence(self):\n",
    "        return (self.seq_len - self.window_size) + 1\n",
    "    \n",
    "    "
   ]
  },
  {
   "cell_type": "code",
   "execution_count": 44,
   "metadata": {},
   "outputs": [],
   "source": [
    "class Net(nn.Module):\n",
    "    def __init__(self, num_features, num_hidden, num_lstm_layers, batch_size):\n",
    "        super(Net, self).__init__()        \n",
    "        self.num_hidden = num_hidden\n",
    "        self.num_lstm_layers = num_lstm_layers\n",
    "        self.batch_size = batch_size\n",
    "        self.lstm1 = nn.LSTM(input_size=1, hidden_size=num_hidden, \n",
    "                             num_layers=num_lstm_layers, batch_first=True)\n",
    "        self.fc1 = nn.Linear(num_hidden, 1)\n",
    "        self.sigmoid = nn.Sigmoid()\n",
    "        self.hidden = None\n",
    "        \n",
    "    def init_hidden(self):\n",
    "#         return (Variable(torch.zeros(self.num_lstm_layers, self.batch_size, self.num_hidden, dtype=torch.float32)), Variable(torch.zeros(self.num_lstm_layers, self.batch_size, self.num_hidden, dtype=torch.float32)))\n",
    "        self.hidden = None\n",
    "    \n",
    "    def detach(self):\n",
    "        for h in self.hidden:\n",
    "            h = h.detach()\n",
    "    \n",
    "    def forward(self, x):\n",
    "        if self.hidden is None:\n",
    "            self.hidden = self.init_hidden()\n",
    "        else:\n",
    "            for h in self.hidden:\n",
    "                h = Variable(h.data)\n",
    "                \n",
    "        lstm_out, self.hidden = self.lstm1(x, self.hidden)\n",
    "        \n",
    "        y_pred = self.sigmoid(self.fc1(lstm_out[:,-1]))\n",
    "        return y_pred"
   ]
  },
  {
   "cell_type": "code",
   "execution_count": 48,
   "metadata": {},
   "outputs": [],
   "source": [
    "ds = StatefulSequenceDataset(X_train, y_train, batch_size, seq_len, window_size)\n",
    "num_epochs = 20\n",
    "net = Net(num_features=1, num_hidden=64, num_lstm_layers=2, batch_size=batch_size)"
   ]
  },
  {
   "cell_type": "code",
   "execution_count": 49,
   "metadata": {},
   "outputs": [],
   "source": [
    "learning_rate = 1e-3\n",
    "loss_fn = torch.nn.BCELoss()\n",
    "optimizer = torch.optim.Adam(net.parameters(), lr=learning_rate)"
   ]
  },
  {
   "cell_type": "code",
   "execution_count": 50,
   "metadata": {},
   "outputs": [
    {
     "name": "stdout",
     "output_type": "stream",
     "text": [
      "Epoch  0 BCE:  7.997757911682129\n",
      "Epoch  1 BCE:  7.88065242767334\n",
      "Epoch  2 BCE:  7.914608955383301\n",
      "Epoch  3 BCE:  7.902589321136475\n",
      "Epoch  4 BCE:  7.907163619995117\n",
      "Epoch  5 BCE:  7.914143085479736\n",
      "Epoch  6 BCE:  0.15860700607299805\n",
      "Epoch  7 BCE:  0.02989042177796364\n",
      "Epoch  8 BCE:  0.01917487010359764\n",
      "Epoch  9 BCE:  0.014581067487597466\n",
      "Epoch  10 BCE:  0.011752137914299965\n",
      "Epoch  11 BCE:  0.00976781826466322\n",
      "Epoch  12 BCE:  0.008275449275970459\n",
      "Epoch  13 BCE:  0.007115022279322147\n",
      "Epoch  14 BCE:  0.006203509401530027\n",
      "Epoch  15 BCE:  0.005482219625264406\n",
      "Epoch  16 BCE:  0.0048978677950799465\n",
      "Epoch  17 BCE:  0.004414767026901245\n",
      "Epoch  18 BCE:  0.004009532742202282\n",
      "Epoch  19 BCE:  0.003664357354864478\n"
     ]
    }
   ],
   "source": [
    "hist = list()\n",
    "for epoch in range(num_epochs):\n",
    "    for _ in range(ds.num_batches_per_epoch()):\n",
    "        net.init_hidden()\n",
    "        loss = 0\n",
    "        for _ in range(ds.num_batches_per_sequence()):\n",
    "            optimizer.zero_grad()\n",
    "            \n",
    "            batch_data, batch_labels = ds.get_batch()\n",
    "            batch_data = batch_data.unsqueeze(-1)\n",
    "            y_pred = net(batch_data)\n",
    "            loss += loss_fn(y_pred, batch_labels)\n",
    "\n",
    "        loss.backward()\n",
    "        optimizer.step()\n",
    "\n",
    "    \n",
    "    print(\"Epoch \", epoch, \"BCE: \", loss.item())\n",
    "            \n",
    "\n",
    "\n"
   ]
  },
  {
   "cell_type": "code",
   "execution_count": 51,
   "metadata": {},
   "outputs": [],
   "source": [
    "X_test_ = X_test[:224]\n",
    "y_test_ = y_test[:224]"
   ]
  },
  {
   "cell_type": "code",
   "execution_count": null,
   "metadata": {},
   "outputs": [],
   "source": []
  },
  {
   "cell_type": "code",
   "execution_count": 52,
   "metadata": {},
   "outputs": [],
   "source": [
    "test_ds = StatefulSequenceDataset(X_test_, y_test_, batch_size=32,seq_len=seq_len, window_size=window_size)\n",
    "               \n"
   ]
  },
  {
   "cell_type": "code",
   "execution_count": 53,
   "metadata": {},
   "outputs": [],
   "source": [
    "xx, yy = test_ds.get_batch()"
   ]
  },
  {
   "cell_type": "code",
   "execution_count": 56,
   "metadata": {},
   "outputs": [],
   "source": [
    "net.init_hidden()"
   ]
  },
  {
   "cell_type": "code",
   "execution_count": 57,
   "metadata": {},
   "outputs": [
    {
     "data": {
      "text/plain": [
       "tensor([[3.0509e-04],\n",
       "        [9.9951e-01],\n",
       "        [3.0509e-04],\n",
       "        [3.0509e-04],\n",
       "        [3.0509e-04],\n",
       "        [3.0509e-04],\n",
       "        [9.9951e-01],\n",
       "        [9.9951e-01],\n",
       "        [3.0509e-04],\n",
       "        [3.0509e-04],\n",
       "        [3.0509e-04],\n",
       "        [3.0509e-04],\n",
       "        [3.0509e-04],\n",
       "        [3.0509e-04],\n",
       "        [9.9951e-01],\n",
       "        [3.0509e-04],\n",
       "        [3.0509e-04],\n",
       "        [3.0509e-04],\n",
       "        [9.9951e-01],\n",
       "        [9.9951e-01],\n",
       "        [3.0509e-04],\n",
       "        [9.9951e-01],\n",
       "        [9.9951e-01],\n",
       "        [9.9951e-01],\n",
       "        [3.0509e-04],\n",
       "        [3.0509e-04],\n",
       "        [3.0509e-04],\n",
       "        [3.0509e-04],\n",
       "        [3.0509e-04],\n",
       "        [9.9951e-01],\n",
       "        [9.9951e-01],\n",
       "        [3.0509e-04]], grad_fn=<SigmoidBackward>)"
      ]
     },
     "execution_count": 57,
     "metadata": {},
     "output_type": "execute_result"
    }
   ],
   "source": [
    "net(xx.unsqueeze(-1))"
   ]
  },
  {
   "cell_type": "code",
   "execution_count": 55,
   "metadata": {},
   "outputs": [
    {
     "data": {
      "text/plain": [
       "tensor([[0.],\n",
       "        [1.],\n",
       "        [0.],\n",
       "        [0.],\n",
       "        [0.],\n",
       "        [0.],\n",
       "        [1.],\n",
       "        [1.],\n",
       "        [0.],\n",
       "        [0.],\n",
       "        [0.],\n",
       "        [0.],\n",
       "        [0.],\n",
       "        [0.],\n",
       "        [1.],\n",
       "        [0.],\n",
       "        [0.],\n",
       "        [0.],\n",
       "        [1.],\n",
       "        [1.],\n",
       "        [0.],\n",
       "        [1.],\n",
       "        [1.],\n",
       "        [1.],\n",
       "        [0.],\n",
       "        [0.],\n",
       "        [0.],\n",
       "        [0.],\n",
       "        [0.],\n",
       "        [1.],\n",
       "        [1.],\n",
       "        [0.]])"
      ]
     },
     "execution_count": 55,
     "metadata": {},
     "output_type": "execute_result"
    }
   ],
   "source": [
    "yy"
   ]
  },
  {
   "cell_type": "code",
   "execution_count": null,
   "metadata": {},
   "outputs": [],
   "source": []
  }
 ],
 "metadata": {
  "kernelspec": {
   "display_name": "Python 3",
   "language": "python",
   "name": "python3"
  },
  "language_info": {
   "codemirror_mode": {
    "name": "ipython",
    "version": 3
   },
   "file_extension": ".py",
   "mimetype": "text/x-python",
   "name": "python",
   "nbconvert_exporter": "python",
   "pygments_lexer": "ipython3",
   "version": "3.6.4"
  }
 },
 "nbformat": 4,
 "nbformat_minor": 2
}
